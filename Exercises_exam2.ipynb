{
 "cells": [
  {
   "cell_type": "code",
   "execution_count": 1,
   "id": "84f3f399",
   "metadata": {},
   "outputs": [],
   "source": [
    "%run ./Formulas_exam2.ipynb"
   ]
  },
  {
   "cell_type": "markdown",
   "id": "778aaad8",
   "metadata": {},
   "source": [
    "# Sumary of the formulas to use in quantitative methods 1\n",
    "## For all formulas using an argument array, you have to transform the dataset doing that:\n",
    "1. Copy the line from excel to python, if its a column in excel transpose that to a line.\n",
    "1. Create a variable that you are going to atribute the dataset in python\n",
    "1. Atribute the valor of the variable using the function transform_array(array), in \"array\" substitute the line from excel\n",
    "1. Put ' at the begin and the end of the argument of the function transform_array, like transform_array('ctrl+v from the entire line on excel')\n",
    "1. The code is like variable=transform_array('ctrl+v from the entire line on excel')\n",
    "1. Use that \"variable\" as an argument for all functions that you want\n",
    "### All proportion codes were developed using the conservative variance var=0.25\n",
    "\n",
    "### Functions\n",
    "1. transform_array(array)\n",
    "* Copy a line from excel end put in the argument of function without changing,with quotes '' in the begin and in the end.\n",
    "* if its a column, transpose the column on excel to a line.\n",
    "\n",
    "2. conf_inter_p() or conf_inter_p(array)\n",
    "* confidence interval for proportion\n",
    "\n",
    "3. conf_inter() or conf_inter(array)\n",
    "* confidence interval for the mean of population\n",
    "\n",
    "4. number_samples_z()\n",
    "* Calculate the number of samples to achieve a margin of error using z_score for proportion or continuous\n",
    "\n",
    "5. number_samples_t()\n",
    "* Calculate the number of samples to achieve a margin of error using t_score\n",
    "\n",
    "6. conf_inter_chi2() or conf_inter_chi2(array)\n",
    "* confidence interval for Variance\n",
    "\n",
    "7. hypo_test_z() or hypo_test_z(array)\n",
    "* Hypothesis test of the mean using z_score\n",
    "\n",
    "8. hypo_test_t() or hypo_test_t(array)\n",
    "* Hypothesis test of the mean using t_score\n",
    "\n",
    "9. hypo_test_p_t(array)\n",
    "* Hypothesis test of the proportion using z_score and transforming the dataset using a benchmark\n",
    "\n",
    "10. hypo_test_p() or hypo_test_p(array)\n",
    "* Hypothesis test of the proportion using z_score and the user giving the categorical dataset or not\n",
    "\n",
    "11. hypo_test_chi2() or hypo_test_chi2(array)\n",
    "*  Hypothesis test of the standard deviation using chi_square\n"
   ]
  },
  {
   "cell_type": "markdown",
   "id": "26f5f597",
   "metadata": {},
   "source": [
    "# Exercises"
   ]
  },
  {
   "cell_type": "markdown",
   "id": "cc37a58d",
   "metadata": {},
   "source": [
    "## An investment manager promises a mean rate of return of 0.8% to his clients. Estimate the 95% C.I. for the mean rate of return offered by that manager. Can the client trust the manager’s offer?\n",
    "\n",
    "n = 32\n",
    "X = 0.76%\n",
    "S = 0.26%"
   ]
  },
  {
   "cell_type": "code",
   "execution_count": 16,
   "id": "b865c5b5",
   "metadata": {},
   "outputs": [
    {
     "name": "stdout",
     "output_type": "stream",
     "text": [
      "What is the mean of the sample in the database?0.0076\n",
      "What is the number of elements in the database?32\n",
      "What is the standard deviation of the sample in the database?0.0026\n",
      "What is the number of the significance(alpha should be decimal and use \".\" being the separator) that you want?0.05\n",
      "0.0066991625141727094 <Xmean< 0.00850083748582729\n"
     ]
    }
   ],
   "source": [
    "conf_inter() "
   ]
  },
  {
   "cell_type": "markdown",
   "id": "1b756c10",
   "metadata": {},
   "source": [
    "## What should be the sample size (n) required to estimate the mean rate of return with 95% of confidence, and a margin of error of 0.10?\n",
    "  \n",
    "S = 0.26"
   ]
  },
  {
   "cell_type": "code",
   "execution_count": 4,
   "id": "ee5ec2fd",
   "metadata": {
    "scrolled": true
   },
   "outputs": [
    {
     "name": "stdout",
     "output_type": "stream",
     "text": [
      "Digite if the case is proportion (s or n)n\n",
      "What is the standard deviation of the sample in the database?0.26\n",
      "What is the number of the significance(alpha should be decimal and use \".\" being the separator) that you want?0.05\n",
      "What is the margin of error (ME should be decimal and use \".\" being the separator) that you want?0.1\n",
      "The number of samples needed is 26\n"
     ]
    }
   ],
   "source": [
    "number_samples_z()"
   ]
  },
  {
   "cell_type": "markdown",
   "id": "26bb9418",
   "metadata": {},
   "source": [
    "## What should be the sample size (n) required to estimate the mean rate of return with 95% of confidence, and a margin of error of 0.05?\n",
    "  \n",
    "S = 0.26"
   ]
  },
  {
   "cell_type": "code",
   "execution_count": 5,
   "id": "9c30a1a1",
   "metadata": {},
   "outputs": [
    {
     "name": "stdout",
     "output_type": "stream",
     "text": [
      "Digite if the case is proportion (s or n)n\n",
      "What is the standard deviation of the sample in the database?0.26\n",
      "What is the number of the significance(alpha should be decimal and use \".\" being the separator) that you want?0.05\n",
      "What is the margin of error (ME should be decimal and use \".\" being the separator) that you want?0.05\n",
      "The number of samples needed is 104\n"
     ]
    }
   ],
   "source": [
    "number_samples_z()"
   ]
  },
  {
   "cell_type": "markdown",
   "id": "6030f3ca",
   "metadata": {},
   "source": [
    "### 2018 poll conducted by NBC asked respondents if they usually wait for a little and save money before buying an expensive product instead of buying immediately and pay instalments with an interest rate. The responses by 230 people showed that 180 (yes) to wait for a little, against 50 (no) that buy immediately. Estimate a 95% confidence interval for the proportion of savers."
   ]
  },
  {
   "cell_type": "code",
   "execution_count": 8,
   "id": "3dc11564",
   "metadata": {
    "scrolled": true
   },
   "outputs": [
    {
     "name": "stdout",
     "output_type": "stream",
     "text": [
      "What is the number of elements in the database?230\n",
      "What is the number of p/(p/ should be decimal and use \".\" being the separator) that you want?0.7826086\n",
      "What is the number of the significance(alfa should be decimal and use \".\" being the separator) that you want?0.05\n",
      "0.718 <Xmean< 0.8472 , with significance being: 5.0 %\n"
     ]
    }
   ],
   "source": [
    "conf_inter_p()"
   ]
  },
  {
   "cell_type": "markdown",
   "id": "500c76e3",
   "metadata": {},
   "source": [
    "## What should the required sample size (n) be to estimate the proportion of savers with 95% of confidence, and a margin of error of 0.02 (2%)?\n",
    "\n",
    "p/=0.783"
   ]
  },
  {
   "cell_type": "code",
   "execution_count": 7,
   "id": "66920d51",
   "metadata": {},
   "outputs": [
    {
     "name": "stdout",
     "output_type": "stream",
     "text": [
      "Digite if the case is proportion (s or n)s\n",
      "What is the number of the significance(alpha should be decimal and use \".\" being the separator) that you want?0.05\n",
      "What is the margin of error (ME should be decimal and use \".\" being the separator) that you want?0.02\n",
      "The number of samples needed is 2401\n"
     ]
    }
   ],
   "source": [
    "number_samples_z()"
   ]
  },
  {
   "cell_type": "markdown",
   "id": "a89c9b75",
   "metadata": {},
   "source": [
    "### As an investment manager, you need to test whether the volume of shares in millions of dollars traded by NASDAQ is different from 368 million. The results of 36 consecutive days were collected and summarized below:\n",
    "\n",
    "n 36 days  \n",
    "Sample mean 372.5 mi  \n",
    "S.D. 15 mi  \n",
    "a = 5%  "
   ]
  },
  {
   "cell_type": "code",
   "execution_count": 19,
   "id": "5e8f2cfa",
   "metadata": {
    "scrolled": true
   },
   "outputs": [
    {
     "name": "stdout",
     "output_type": "stream",
     "text": [
      "What is the number of elements in the database?36\n",
      "What is the null hypothesis(Ho should be decimal and use \".\" being the separator)?368\n",
      "What is the number of the significance(alpha should be decimal and use \".\" being the separator) that you want?0.05\n",
      "What is the alternative hypothesis(choose \"<>\" or \"<\" or \">\")?<>\n",
      "What is the value to analysis power?375\n",
      "What is the mean of the sample in the database?372.5\n",
      "What is the standard deviation of the sample in the database?15\n",
      "Z_score is 1.8 critical z_score is 1.959963984540054 H0_LL critical is363.10009003864985 H0_UL critical is372.89990996135015\n",
      "Not Reject null hypothesis p_value is 0.07186063822585154\n",
      "The value of Beta is 0.20044409670188912\n",
      "The value power is 0.7995559032981109\n"
     ]
    }
   ],
   "source": [
    "hypo_test_z()"
   ]
  },
  {
   "cell_type": "markdown",
   "id": "8a44bae0",
   "metadata": {},
   "source": [
    "### As an investment manager, you need to test whether the volume of shares (in millions of dollars) traded by NASDAQ is greater than 368 million. The results of 36 consecutive days were collected and summarized below:\n",
    "  \n",
    "n 36 days  \n",
    "Sample mean 372.5 mi  \n",
    "S.D. 15 mi  \n",
    "What is your conclusion?  \n",
    "Consider a = 5%  "
   ]
  },
  {
   "cell_type": "code",
   "execution_count": 23,
   "id": "33b63e5e",
   "metadata": {
    "scrolled": true
   },
   "outputs": [
    {
     "name": "stdout",
     "output_type": "stream",
     "text": [
      "What is the number of elements in the database?36\n",
      "What is the null hypothesis(Ho should be decimal and use \".\" being the separator)?368\n",
      "What is the number of the significance(alpha should be decimal and use \".\" being the separator) that you want?0.05\n",
      "What is the alternative hypothesis(choose \"<>\" or \"<\" or \">\")?>\n",
      "What is the value to analysis power?375\n",
      "What is the mean of the sample in the database?372.5\n",
      "What is the standard deviation of the sample in the database?15\n",
      "Z_score is 1.8 critical z_score is 1.6448536269514722\n",
      "Reject null hypothesis p_value is 0.03593031911292577\n",
      "The value of Beta is 0.12401524544987613\n",
      "The value of Power is 0.8759847545501238\n",
      "Critical value of mu  372.1121340673787\n"
     ]
    }
   ],
   "source": [
    "hypo_test_z()"
   ]
  },
  {
   "cell_type": "markdown",
   "id": "cb4229dd",
   "metadata": {},
   "source": [
    "## As an investment manager, you need to test whether the volume of shares in millions of dollars traded by NASDAQ is different from 368 million. The result of 25 consecutive days was collected and summarized below:\n",
    "n 25 days  \n",
    "Sample mean 373.3 mi  \n",
    "S.D. 12.6 mi  \n",
    "What is your conclusion?  \n",
    "Consider a = 5%"
   ]
  },
  {
   "cell_type": "code",
   "execution_count": 30,
   "id": "2514c1a7",
   "metadata": {
    "scrolled": true
   },
   "outputs": [
    {
     "name": "stdout",
     "output_type": "stream",
     "text": [
      "What is the null hypothesis(Ho should be decimal and use \".\" being the separator)?368\n",
      "What is the number of the significance(alpha should be decimal and use \".\" being the separator) that you want?0.05\n",
      "What is the number of elements in the database?25\n",
      "What is the alternative hypothesis(choose \"<>\" or \"<\" or \">\")?<>\n",
      "What is the value to analysis power?376\n",
      "What is the mean of the sample in the database?373.3\n",
      "What is the standard deviation of the sample in the database?12.6\n",
      "T_score is 2.1031746031746077 critical T_score is 2.0638985616280205 H0_LL critical is362.7989756246974 H0_UL critical is373.2010243753026\n",
      "Reject null hypothesis p_value is 0.046118054864621616\n",
      "The value of Beta is 0.1388498969050262\n",
      "The value power is 0.8611501030949738\n"
     ]
    }
   ],
   "source": [
    "hypo_test_t()"
   ]
  },
  {
   "cell_type": "markdown",
   "id": "c03e852f",
   "metadata": {},
   "source": [
    "## As an investment manager, you need to test whether the volume of shares in millions of dollars traded by NASDAQ is greater from 368 million. The result of 25 consecutive days was collected and summarized below:\n",
    "n 25 days  \n",
    "Sample mean 373.3 mi  \n",
    "S.D. 12.6 mi  \n",
    "What is your conclusion?  \n",
    "Consider a = 5%"
   ]
  },
  {
   "cell_type": "code",
   "execution_count": 31,
   "id": "ee1c765d",
   "metadata": {},
   "outputs": [
    {
     "name": "stdout",
     "output_type": "stream",
     "text": [
      "What is the null hypothesis(Ho should be decimal and use \".\" being the separator)?368\n",
      "What is the number of the significance(alpha should be decimal and use \".\" being the separator) that you want?0.05\n",
      "What is the number of elements in the database?25\n",
      "What is the alternative hypothesis(choose \"<>\" or \"<\" or \">\")?>\n",
      "What is the value to analysis power?376\n",
      "What is the mean of the sample in the database?373.3\n",
      "What is the standard deviation of the sample in the database?12.6\n",
      "T_score is 2.1031746031746077 critical T_score is 1.7108820799094275\n",
      "Reject null hypothesis p_value is 0.023059027432310808\n",
      "The value of Beta is 0.07812286172521829\n",
      "The value of Power is 0.9218771382747817\n",
      "Critical value of mu  372.3114228413718\n"
     ]
    }
   ],
   "source": [
    "hypo_test_t()"
   ]
  },
  {
   "cell_type": "markdown",
   "id": "31a1674f",
   "metadata": {},
   "source": [
    "## As an investment manager, you need to test whether the risk of NASDAQ is different from 17 mi. The risk or volatility in an investment is measured by the standard deviation. The result of 25 consecutive days was collected and summarized below: NASDAQ\n",
    "\n",
    "n 25 days  \n",
    "Sample mean 373.3 mi  \n",
    "S.D. 12.6 mi  \n",
    "What is your conclusion?  \n",
    "Consider a = 5%  "
   ]
  },
  {
   "cell_type": "code",
   "execution_count": 43,
   "id": "2c20011d",
   "metadata": {},
   "outputs": [
    {
     "name": "stdout",
     "output_type": "stream",
     "text": [
      "What is the null hypothesis for standard deviation(Ho should be decimal and use \".\" being the separator)?17\n",
      "What is the number of the significance(alfa should be decimal and use \".\" being the separator) that you want?0.05\n",
      "What is the alternative hypothesis(choose \"<>\" or \"<\" or \">\")?<>\n",
      "What is the number of elements in the database?25\n",
      "What is the variance of the sample in the database?158.76\n",
      "chi2_score is 13.184221453287197 critical Upper chi2_score is 39.36407702660391 critical Lower chi2_score is 12.401150217444435 \"s\" Upper critical is 21.771749911188934 \"s\" Lower critical is 12.220086628241502\n",
      "Not Reject null hypothesis\n"
     ]
    }
   ],
   "source": [
    "hypo_test_chi2()"
   ]
  },
  {
   "cell_type": "markdown",
   "id": "2f2bbb84",
   "metadata": {},
   "source": [
    "##  The annual rate of return (ARoR) was calculated for each of 63 electric-power suppliers operating in 1995. The data were extracted from The Wall Street Journal (29th February 1996) and are available at worksheet ARoR - Database. As an investment manager, you should test the hypothesis that the ARoR mean of the electric-power suppliers is greater than 0.03. Use a = 5% significance . What is your conclusion?"
   ]
  },
  {
   "cell_type": "code",
   "execution_count": 23,
   "id": "d9d403d8",
   "metadata": {},
   "outputs": [
    {
     "name": "stdout",
     "output_type": "stream",
     "text": [
      "What is the null hypothesis(Ho should be decimal and use \".\" being the separator)?0.03\n",
      "What is the number of the significance(alpha should be decimal and use \".\" being the separator) that you want?0.05\n",
      "What is the alternative hypothesis(choose \"<>\" or \"<\" or \">\")?>\n",
      "What is the value to analysis power?0.035\n",
      "mean 0.03192857142857143\n",
      "Standard deviation (s) 0.01346540883237644\n",
      "Z_score is 1.1368062676320672 critical z_score is 1.6448536269514722\n",
      "Not Reject null hypothesis p_value is 0.12780964132420658\n",
      "The value of Beta is 0.09638610320089086\n",
      "The value of Power is 0.9036138967991092\n",
      "Critical value of mu  0.032790464654745735\n"
     ]
    }
   ],
   "source": [
    "x=transform_array('0,0524\t0,0277\t0,0348\t0,0538\t0,0303\t0,0633\t0,0444\t0,0242\t0,0590\t0,0305\t0,0406\t0,0318\t0,0284\t0,0381\t0,0392\t0,0428\t0,0210\t0,0368\t0,0319\t0,0198\t0,0320\t0,0380\t0,0375\t0,0304\t0,0359\t0,0179\t0,0184\t0,0353\t0,0259\t0,0178\t0,0327\t0,0461\t0,0255\t0,0323\t0,0246\t0,0544\t0,0226\t0,0354\t0,0208\t0,0438\t0,0318\t0,0412\t0,0278\t0,0245\t0,0257\t0,0388\t0,0329\t0,0374\t0,0420\t0,0397\t0,0248\t0,0055\t0,0324\t0,0448\t0,0445\t0,0318\t0,0234\t0,0261\t0,0354\t0,0190\t-0,0271\t0,0086\t0,0224')\n",
    "hypo_test_z(x)"
   ]
  },
  {
   "cell_type": "code",
   "execution_count": 4,
   "id": "c23c5193",
   "metadata": {},
   "outputs": [
    {
     "name": "stdout",
     "output_type": "stream",
     "text": [
      "What is the null hypothesis(Ho should be decimal and use \".\" being the separator)?0.03\n",
      "What is the number of the significance(alpha should be decimal and use \".\" being the separator) that you want?0.05\n",
      "What is the alternative hypothesis(choose \"<>\" or \"<\" or \">\")?>\n",
      "What is the value to analysis power?0.035\n",
      "mean 0.03192857142857143\n",
      "Standard deviation (s) 0.01346540883237644\n",
      "T_score is 1.1368062676320672 critical T_score is 1.669804162296528\n",
      "Not Reject null hypothesis p_value is 0.1299970019746004\n",
      "The value of Beta is 0.10309942790685186\n",
      "The value of Power is 0.8969005720931481\n",
      "Critical value of mu  0.03283279279012298\n"
     ]
    }
   ],
   "source": [
    "#considering Ho<>\n",
    "hypo_test_t(x)"
   ]
  },
  {
   "cell_type": "markdown",
   "id": "5079168b",
   "metadata": {},
   "source": [
    "## The Renewable Energy Certificate (REC) is a market-based instrument that represents the property rights to the environmental, social and other non-power attributes of renewable electricity generation. The RECs are issued when one megawatt-hour(MWh) of electricity is generated and delivered to the electricity grid from a renewable energy resource. The Database worksheet presents the REC condition for each of 63 electric-power suppliers (REC=1 means that the company is certified, REC=0 means that the company is not certified). As an investment manager, you should test the hypothesis that the proportion of certified electric-power suppliers is less than 0.5. Use a=5% significance. What is your conclusion?"
   ]
  },
  {
   "cell_type": "code",
   "execution_count": 5,
   "id": "a29a2421",
   "metadata": {},
   "outputs": [
    {
     "name": "stdout",
     "output_type": "stream",
     "text": [
      "What is the null hypothesis(Ho should be decimal and use \".\" being the separator)?0.5\n",
      "What is the number of the significance(alfa should be decimal and use \".\" being the separator) that you want?0.05\n",
      "What is the alternative hypothesis(choose \"<>\" or \"<\" or \">\")?<\n",
      "Proportion is 0.4127\n",
      "Z_score is -1.3858697343671669 critical z_score is -1.6448536269514729\n",
      "Not Reject null hypothesis p_value is 0.08289334199052911\n"
     ]
    }
   ],
   "source": [
    "a=transform_array('1\t1\t0\t0\t1\t0\t0\t0\t1\t0\t0\t1\t0\t0\t0\t0\t0\t0\t0\t1\t0\t1\t1\t0\t0\t1\t0\t0\t1\t1\t1\t0\t0\t0\t0\t1\t1\t1\t0\t1\t0\t1\t1\t0\t0\t0\t1\t1\t0\t0\t0\t1\t0\t0\t0\t1\t1\t1\t1\t0\t1\t0\t0')\n",
    "hypo_test_p(a)"
   ]
  },
  {
   "cell_type": "markdown",
   "id": "06273353",
   "metadata": {},
   "source": [
    "## The annual rate of return (ARoR) was calculated for each of 63 electric-power suppliers operating in 1995. The data were extracted from The Wall Street Journal (29th February 1996) and are available at worksheet ARoR - Database. The risk or volatility of the asset, is measured by the standard deviation. The Risk-free Investiment has a standard deviation of 0.0085. As an investment manager, you should test the hypothesis that the standard deviation of annual rate of return of shares of electricity companies is greater than 0.0085. Use a = 5% significance . What is your conclusion?"
   ]
  },
  {
   "cell_type": "code",
   "execution_count": 7,
   "id": "e9c6ee90",
   "metadata": {},
   "outputs": [
    {
     "name": "stdout",
     "output_type": "stream",
     "text": [
      "What is the null hypothesis for standard deviation(Ho should be decimal and use \".\" being the separator)?0.0085\n",
      "What is the number of the significance(alfa should be decimal and use \".\" being the separator) that you want?0.05\n",
      "What is the alternative hypothesis(choose \"<>\" or \"<\" or \">\")?>\n",
      "mean 0.03192857142857143\n",
      "Standard deviation (s) 0.01346540883237644\n",
      "Variance (s²) 0.00018131723502304146\n",
      "chi2_score is 155.59402867029164 critical chi2_score is 81.3810151888991 \"s\" critical is0.009738333257567795\n",
      "Reject null hypothesis\n"
     ]
    }
   ],
   "source": [
    "hypo_test_chi2(x)"
   ]
  },
  {
   "cell_type": "code",
   "execution_count": 24,
   "id": "06020dff",
   "metadata": {
    "scrolled": true
   },
   "outputs": [
    {
     "name": "stdout",
     "output_type": "stream",
     "text": [
      "What is the null hypothesis for standard deviation(Ho should be decimal and use \".\" being the separator)?0.0085\n",
      "What is the number of the significance(alfa should be decimal and use \".\" being the separator) that you want?0.05\n",
      "What is the alternative hypothesis(choose \"<>\" or \"<\" or \">\")?<>\n",
      "mean 0.03192857142857143\n",
      "Standard deviation (s) 0.01346540883237644\n",
      "Variance (s²) 0.00018131723502304146\n",
      "chi2_score is 155.59402867029164 critical Upper chi2_score is 85.65373078961532 critical Lower chi2_score is 42.125991958283706 \"s\" Upper critical is 0.009990707012301004 \"s\" Lower critical is 0.00700645200233788\n",
      "Reject null hypothesis\n"
     ]
    }
   ],
   "source": [
    "#considering Ho<>\n",
    "hypo_test_chi2(x)"
   ]
  },
  {
   "cell_type": "markdown",
   "id": "bf5e4372",
   "metadata": {},
   "source": [
    "## A logistics consultant noted the time spent (in minutes) to process sixty orders during the operations of the Venda Virtual, a virtual sales company. For this sample, the mean time spent was 23.42 minutes with a standard deviation of 12.12 minutes.\n",
    "(a) Define a 95% confidence interval for the mean, μ, the mean time spent (in minutes) to process orders during the\n",
    "operations of the Venda Virtual.  \n",
    "(b) Test the hypothesis that the mean μ is greater than 20, with a = 5% significance. What is your conclusion?  \n",
    "(c) Calculate the test p-value.  \n",
    "(d) Calculate the probability of error b for a mean μ = 25.  "
   ]
  },
  {
   "cell_type": "code",
   "execution_count": 2,
   "id": "1417de3b",
   "metadata": {},
   "outputs": [
    {
     "name": "stdout",
     "output_type": "stream",
     "text": [
      "What is the mean of the sample in the database?23.42\n",
      "What is the number of elements in the database?60\n",
      "What is the standard deviation of the sample in the database?12.12\n",
      "What is the number of the significance(alpha should be decimal and use \".\" being the separator) that you want?0.05\n",
      "20.353273219998858 <Xmean< 26.486726780001145\n"
     ]
    }
   ],
   "source": [
    "#question a)\n",
    "conf_inter()"
   ]
  },
  {
   "cell_type": "code",
   "execution_count": 3,
   "id": "64a94fef",
   "metadata": {},
   "outputs": [
    {
     "name": "stdout",
     "output_type": "stream",
     "text": [
      "What is the number of elements in the database?60\n",
      "What is the null hypothesis(Ho should be decimal and use \".\" being the separator)?20\n",
      "What is the number of the significance(alpha should be decimal and use \".\" being the separator) that you want?0.05\n",
      "What is the alternative hypothesis(choose \"<>\" or \"<\" or \">\")?>\n",
      "What is the value to analysis power?25\n",
      "What is the mean of the sample in the database?23.42\n",
      "What is the standard deviation of the sample in the database?12.12\n",
      "Z_score is 2.185743076572504 critical z_score is 1.6448536269514722\n",
      "Reject null hypothesis p_value is 0.014417203723403715\n",
      "The value of Beta is 0.06048953213938697\n",
      "The value of Power is 0.939510467860613\n",
      "Critical value of mu  22.573678244469296\n"
     ]
    }
   ],
   "source": [
    "#question b),c),d)\n",
    "hypo_test_z()"
   ]
  },
  {
   "cell_type": "markdown",
   "id": "a567ad22",
   "metadata": {},
   "source": [
    "## The mean number of customers each day at a gas station has been around 250. During a 25-day campaign offering customers a gift, the mean number of customers reached 280 with a standard deviation of 50. Would you say that the campaign altered the distribution of the number of customers at this gas station?\n",
    "(a) Construct an adequate hypothesis test, at the 2% significance level, to help the manager. What is the decision? What\n",
    "does this mean in practical terms?  \n",
    "(b) Construct a 99% confidence interval for the mean number of customers each day during the campaign.  \n",
    "(c) Now assume that the campaign lasted half a year, with a sample of 180 days and the sample average number of\n",
    "customers at 280, with a sample standard deviation of 50. What would be the significance of the test with the following\n",
    "critical region: C.R. = {𝑋 \"ÎÂ/𝑋 \" >258}?  "
   ]
  },
  {
   "cell_type": "code",
   "execution_count": 8,
   "id": "1e419a1a",
   "metadata": {},
   "outputs": [
    {
     "name": "stdout",
     "output_type": "stream",
     "text": [
      "What is the null hypothesis(Ho should be decimal and use \".\" being the separator)?250\n",
      "What is the number of the significance(alpha should be decimal and use \".\" being the separator) that you want?0.02\n",
      "What is the number of elements in the database?25\n",
      "What is the alternative hypothesis(choose \"<>\" or \"<\" or \">\")?>\n",
      "What is the value to analysis power?280\n",
      "What is the mean of the sample in the database?280\n",
      "What is the standard deviation of the sample in the database?50\n",
      "T_score is 3.0 critical T_score is 2.1715446760080677\n",
      "Reject null hypothesis p_value is 0.003102868308262341\n",
      "The value of Beta is 0.20778790764589644\n",
      "The value of Power is 0.7922120923541036\n",
      "Critical value of mu  271.7154467600807\n"
     ]
    }
   ],
   "source": [
    "#a)\n",
    "hypo_test_t()"
   ]
  },
  {
   "cell_type": "code",
   "execution_count": 5,
   "id": "3076f16d",
   "metadata": {},
   "outputs": [
    {
     "name": "stdout",
     "output_type": "stream",
     "text": [
      "What is the mean of the sample in the database?280\n",
      "What is the number of elements in the database?25\n",
      "What is the standard deviation of the sample in the database?50\n",
      "What is the number of the significance(alpha should be decimal and use \".\" being the separator) that you want?0.01\n",
      "252.03060495227197 <Xmean< 307.969395047728\n"
     ]
    }
   ],
   "source": [
    "#b)\n",
    "conf_inter()"
   ]
  },
  {
   "cell_type": "code",
   "execution_count": 7,
   "id": "7d4d9b29",
   "metadata": {},
   "outputs": [
    {
     "name": "stdout",
     "output_type": "stream",
     "text": [
      "1.591 %\n"
     ]
    }
   ],
   "source": [
    "#c)\n",
    "alpha=(1-norm.cdf(x=258, loc=250, scale=50/math.sqrt(180)))*100\n",
    "print(round(alpha,3),'%')"
   ]
  },
  {
   "cell_type": "markdown",
   "id": "254421b4",
   "metadata": {},
   "source": [
    "## The producers of a television program intend to change it if watched regularly by less than a quarter of the total audience. A poll conducted showed that 80 of the 400 families interviewed watched the program regularly.\n",
    "(a) Construct an adequate hypothesis test, at the 6% significance level, to help the producers. What is their decision? What does this mean in practical terms?  \n",
    "(b) Calculate the test description level. (p_value) "
   ]
  },
  {
   "cell_type": "code",
   "execution_count": 9,
   "id": "9891b4d1",
   "metadata": {},
   "outputs": [
    {
     "name": "stdout",
     "output_type": "stream",
     "text": [
      "What is the null hypothesis(Ho should be decimal and use \".\" being the separator)?0.25\n",
      "What is the number of the significance(alfa should be decimal and use \".\" being the separator) that you want?0.06\n",
      "What is the alternative hypothesis(choose \"<>\" or \"<\" or \">\")?<\n",
      "What is the number of elements in the database?400\n",
      "What is the number of p/(p/ should be decimal and use \".\" being the separator) that you want?0.2\n",
      "Z_score is -1.9999999999999996 critical z_score is -1.5547735945968535\n",
      "Reject null hypothesis p_value is 0.022750131948179216\n"
     ]
    }
   ],
   "source": [
    "hypo_test_p()"
   ]
  },
  {
   "cell_type": "markdown",
   "id": "f2d2557d",
   "metadata": {},
   "source": [
    "## An investment manager promises a mean rate of return of 0.24% to his clients. A new strategy was defined to ensure a better mean rate of return for them. In the past, the standard deviation was around 0.039 and it should be kept. In order to check the hypotheses, eight days were selected at random, with the following rate of return: 0.242; 0.226; 0.210; 0.290;0.306; 0.322; 0.274 and 0.258.\n",
    "\n",
    "(a) Construct an adequate hypothesis test, at the 10% significance level, to check the manager's promise in terms of the\n",
    "customer view. What is its decision? What does this mean in practical terms?  \n",
    "(b) Construct an adequate hypothesis test, at the 5% significance level, to check the manager's promise in terms of the\n",
    "customer. What is its decision? What does this mean in practical terms?"
   ]
  },
  {
   "cell_type": "code",
   "execution_count": 15,
   "id": "17d95500",
   "metadata": {},
   "outputs": [
    {
     "name": "stdout",
     "output_type": "stream",
     "text": [
      "What is the null hypothesis(Ho should be decimal and use \".\" being the separator)?0.24\n",
      "What is the number of the significance(alpha should be decimal and use \".\" being the separator) that you want?0.1\n",
      "What is the alternative hypothesis(choose \"<>\" or \"<\" or \">\")?>\n",
      "What is the value to analysis power?0.3\n",
      "mean 0.266\n",
      "Standard deviation (s) 0.03919183588453085\n",
      "T_score is 1.8763883748662853 critical T_score is 1.4149239276488585\n",
      "Reject null hypothesis p_value is 0.051354725604052964\n",
      "The value of Beta is 0.011246585502118905\n",
      "The value of Power is 0.9887534144978811\n",
      "Critical value of mu  0.25960576105226185\n"
     ]
    }
   ],
   "source": [
    "a=transform_array('0,242\t0,226\t0,21\t0,29\t0,306\t0,322\t0,274\t0,258')\n",
    "# a)\n",
    "hypo_test_t(a)"
   ]
  },
  {
   "cell_type": "code",
   "execution_count": 14,
   "id": "fe80050d",
   "metadata": {
    "scrolled": true
   },
   "outputs": [
    {
     "name": "stdout",
     "output_type": "stream",
     "text": [
      "What is the null hypothesis(Ho should be decimal and use \".\" being the separator)?0.24\n",
      "What is the number of the significance(alpha should be decimal and use \".\" being the separator) that you want?0.05\n",
      "What is the alternative hypothesis(choose \"<>\" or \"<\" or \">\")?>\n",
      "What is the value to analysis power?0.3\n",
      "mean 0.266\n",
      "Standard deviation (s) 0.03919183588453085\n",
      "T_score is 1.8763883748662853 critical T_score is 1.894578605061305\n",
      "Not Reject null hypothesis p_value is 0.051354725604052964\n",
      "The value of Beta is 0.022526118669050743\n",
      "The value of Power is 0.9774738813309493\n",
      "Critical value of mu  0.2662520512231932\n"
     ]
    }
   ],
   "source": [
    "# b)\n",
    "hypo_test_t(a)"
   ]
  },
  {
   "cell_type": "markdown",
   "id": "c94490ed",
   "metadata": {},
   "source": [
    "## The unit prices (in Real) of a specific part offered by five suppliers are 119.4; 114.6; 107.8; 111.0 and 111.5. The engineer in charge states that there was an illegal restatement and the mean price of the part now exceeds RS 110 (suggested price of the product):\n",
    "(a) Construct an adequate hypothesis test, at the 5% level of significance, to evaluate the engineer's statement is true.  \n",
    "(b) Assume that a sample was collected for 36 suppliers. This information showed a mean price of RS 112.5 and a standard\n",
    "deviation of RS 5.00.Repeat item (a) based on the new information.  \n"
   ]
  },
  {
   "cell_type": "code",
   "execution_count": 18,
   "id": "465ef552",
   "metadata": {},
   "outputs": [
    {
     "name": "stdout",
     "output_type": "stream",
     "text": [
      "What is the null hypothesis(Ho should be decimal and use \".\" being the separator)?110\n",
      "What is the number of the significance(alpha should be decimal and use \".\" being the separator) that you want?0.05\n",
      "What is the alternative hypothesis(choose \"<>\" or \"<\" or \">\")?>\n",
      "What is the value to analysis power?115\n",
      "mean 112.85999999999999\n",
      "Standard deviation (s) 4.379269345450222\n",
      "T_score is 1.4603245224670909 critical T_score is 2.13184678133629\n",
      "Not Reject null hypothesis p_value is 0.1089929402480706\n",
      "The value of Beta is 0.3476390702376318\n",
      "The value of Power is 0.6523609297623683\n",
      "Critical value of mu  114.1751553855449\n"
     ]
    }
   ],
   "source": [
    "# a)\n",
    "b=transform_array('119,4\t114,6\t107,8\t111,0\t111,5')\n",
    "hypo_test_t(b)"
   ]
  },
  {
   "cell_type": "code",
   "execution_count": 19,
   "id": "a3c48244",
   "metadata": {},
   "outputs": [
    {
     "name": "stdout",
     "output_type": "stream",
     "text": [
      "What is the number of elements in the database?36\n",
      "What is the null hypothesis(Ho should be decimal and use \".\" being the separator)?110\n",
      "What is the number of the significance(alpha should be decimal and use \".\" being the separator) that you want?0.05\n",
      "What is the alternative hypothesis(choose \"<>\" or \"<\" or \">\")?>\n",
      "What is the value to analysis power?115\n",
      "What is the mean of the sample in the database?112.5\n",
      "What is the standard deviation of the sample in the database?5\n",
      "Z_score is 3.0 critical z_score is 1.6448536269514722\n",
      "Reject null hypothesis p_value is 0.0013498980316301035\n",
      "The value of Beta is 6.648901509735581e-06\n",
      "The value of Power is 0.9999933510984903\n",
      "Critical value of mu  111.37071135579289\n"
     ]
    }
   ],
   "source": [
    "# b)\n",
    "hypo_test_z()"
   ]
  },
  {
   "cell_type": "markdown",
   "id": "b4f79006",
   "metadata": {},
   "source": [
    "## A poll, conduct by NBC, showed that 85 out of 400 families interviewed in low-income communities had desktop computers in their homes. The Mayor will run a desktop computer purchasing loan program if the proportion of all residents with desktop computers is less than 30% (0.30).\n",
    "(a) Construct a 98% confidence interval for the proportion of families living in low-income communities with desktop\n",
    "computers. Based on the results, must the Mayor launch the loan program? Justify.  \n"
   ]
  },
  {
   "cell_type": "code",
   "execution_count": 3,
   "id": "99d03c81",
   "metadata": {},
   "outputs": [
    {
     "name": "stdout",
     "output_type": "stream",
     "text": [
      "What is the number of elements in the database?400\n",
      "What is the number of p/(p/ should be decimal and use \".\" being the separator) that you want?0.2125\n",
      "What is the number of the significance(alfa should be decimal and use \".\" being the separator) that you want?0.02\n",
      "0.1543 <Xmean< 0.2707 , with significance being: 2.0 %\n"
     ]
    }
   ],
   "source": [
    "#a)\n",
    "conf_inter_p()"
   ]
  },
  {
   "cell_type": "markdown",
   "id": "496ea625",
   "metadata": {},
   "source": [
    "## Listed below are the electricity consumption figures (in kWh) for the home of a resident of Rio de Janeiro for five different months: 1194, 1146, 1078, 1110 and 1115. In the last electricity bill, the supplier stated that fines will be imposed on residents with mean monthly consumption levels greater than 1150 kWh.\n",
    "(a) Construct a 95% confidence interval for the mean monthly consumption of this resident in the suburbs of Rio de Janeiro.\n",
    "Will the consumer under assessment have to pay a fine? Suggest an alternative approach in order to realize the test.  \n",
    "(b) A new sample was collected for the last 36 months of consumption for this resident and showed X/= 1125 kWh and S=\n",
    "50 kWh. Based on this new sample, construct a 95% confidence interval for the mean monthly consumption of this\n",
    "resident. Will the consumer under assessment have to pay a fine?  \n",
    "(c) Based on the information in item (b), what size must a new sample be for estimating mean electricity consumption with\n",
    "an error of no more than 10 kWh and a 99% confidence interval?"
   ]
  },
  {
   "cell_type": "code",
   "execution_count": 6,
   "id": "fed952f7",
   "metadata": {
    "scrolled": true
   },
   "outputs": [
    {
     "name": "stdout",
     "output_type": "stream",
     "text": [
      "The minimum value is  1078.0\n",
      "The mean value is  1128.6\n",
      "The variance value is  1917.7999999999997\n",
      "The standard deviation is  43.7926934545022\n",
      "The maximum is 1194.0\n",
      "What is the number of the significance(alpha should be decimal and use \".\" being the separator) that you want?0.05\n",
      "1074.2241891531708 <Xmean< 1182.975810846829\n"
     ]
    }
   ],
   "source": [
    "#a)\n",
    "c=transform_array('1194\t1146\t1078\t1110\t1115')\n",
    "conf_inter(c)"
   ]
  },
  {
   "cell_type": "code",
   "execution_count": 7,
   "id": "03d0035b",
   "metadata": {},
   "outputs": [
    {
     "name": "stdout",
     "output_type": "stream",
     "text": [
      "What is the mean of the sample in the database?1125\n",
      "What is the number of elements in the database?36\n",
      "What is the standard deviation of the sample in the database?50\n",
      "What is the number of the significance(alpha should be decimal and use \".\" being the separator) that you want?0.05\n",
      "1108.6669667954995 <Xmean< 1141.3330332045005\n"
     ]
    }
   ],
   "source": [
    "#b)\n",
    "conf_inter()"
   ]
  },
  {
   "cell_type": "code",
   "execution_count": 8,
   "id": "6f30a4d8",
   "metadata": {},
   "outputs": [
    {
     "name": "stdout",
     "output_type": "stream",
     "text": [
      "Digite if the case is proportion (s or n)n\n",
      "What is the standard deviation of the sample in the database?50\n",
      "What is the number of the significance(alpha should be decimal and use \".\" being the separator) that you want?0.01\n",
      "What is the margin of error (ME should be decimal and use \".\" being the separator) that you want?10\n",
      "The number of samples needed is 166\n"
     ]
    }
   ],
   "source": [
    "#c)\n",
    "number_samples_z()"
   ]
  },
  {
   "cell_type": "markdown",
   "id": "a6713cc5",
   "metadata": {},
   "source": [
    "## The label on a soft drink bottle made by Karioka Refrescos S.A. indicated that it contains 500ml of guaraná drink. However, the Consumer Protection Agency has received several complains that the company is delivering less guaraná drink than stated on the label. An independent consulting firm selected sixty bottles at random from assorted retailers nationwide, finding a mean of 489 ml and a standard deviation of 21 ml.\n",
    "(a) Construct an adequate hypothesis test, at the 3% significance level, to check the complaints from consumers. What is\n",
    "the decision? What does it mean in practical terms?  \n"
   ]
  },
  {
   "cell_type": "code",
   "execution_count": 9,
   "id": "d31385db",
   "metadata": {
    "scrolled": true
   },
   "outputs": [
    {
     "name": "stdout",
     "output_type": "stream",
     "text": [
      "What is the number of elements in the database?60\n",
      "What is the null hypothesis(Ho should be decimal and use \".\" being the separator)?500\n",
      "What is the number of the significance(alpha should be decimal and use \".\" being the separator) that you want?0.03\n",
      "What is the alternative hypothesis(choose \"<>\" or \"<\" or \">\")?<\n",
      "What is the value to analysis power?550\n",
      "What is the mean of the sample in the database?489\n",
      "What is the standard deviation of the sample in the database?21\n",
      "Z_score is -4.0574111245982465 critical z_score is -1.880793608151251\n",
      "Reject null hypothesis p_value is 2.4809845078521063e-05\n",
      "The value of Beta is 3.9785758237794225e-92\n",
      "The value of Power is 1.0\n",
      "Critical value of mu  494.9010023745838\n"
     ]
    }
   ],
   "source": [
    "#a)\n",
    "hypo_test_z()"
   ]
  },
  {
   "cell_type": "markdown",
   "id": "c158f5d0",
   "metadata": {},
   "source": [
    "## An investment broker believes that the rate of return on its investments exceeds 24% a month. You wish to invest with this broker and analysed the rates of return (%) for the past 8 months finding: 23.6; 22.8; 25.7; 24.8; 26.4; 24.3; 23.9 and 25.0.Note: Rate of return (RR) is a metric variable that may range between −∞ < RR < ∞.\n",
    "(a) Construct a hypothesis test, at the 10% significance level, to check the statement from the brokerage service. What is\n",
    "your decision? Can you trust the brokerage service?  \n",
    "(b) Calculate the significance test considering std= 1,1624, 121 months and C.R. = {X/>24.2}.\n",
    "(c) Using the information in item (b), what is the power of the test for µ = 24.5%? What does it mean?"
   ]
  },
  {
   "cell_type": "code",
   "execution_count": 13,
   "id": "e02188e1",
   "metadata": {},
   "outputs": [
    {
     "name": "stdout",
     "output_type": "stream",
     "text": [
      "What is the null hypothesis(Ho should be decimal and use \".\" being the separator)?24\n",
      "What is the number of the significance(alpha should be decimal and use \".\" being the separator) that you want?0.1\n",
      "What is the alternative hypothesis(choose \"<>\" or \"<\" or \">\")?>\n",
      "What is the value to analysis power?24.5\n",
      "mean 24.5625\n",
      "Standard deviation (s) 1.1624327937562664\n",
      "T_score is 1.3686728955130663 critical T_score is 1.4149239276488585\n",
      "Not Reject null hypothesis p_value is 0.1067022111221001\n",
      "The value of Beta is 0.4242135240695173\n",
      "The power is 0.5757864759304827\n",
      "Critical value of mu  24.581508344259372\n"
     ]
    }
   ],
   "source": [
    "#a)\n",
    "a=transform_array('23,6\t22,8\t25,7\t24,8\t26,4\t24,3\t23,9\t25,0')\n",
    "hypo_test_t(a)"
   ]
  },
  {
   "cell_type": "code",
   "execution_count": 15,
   "id": "177d85d5",
   "metadata": {},
   "outputs": [
    {
     "name": "stdout",
     "output_type": "stream",
     "text": [
      "What is the number of elements in the database?121\n",
      "What is the null hypothesis(Ho should be decimal and use \".\" being the separator)?24\n",
      "What is the number of the significance(alpha should be decimal and use \".\" being the separator) that you want?0.0292\n",
      "What is the alternative hypothesis(choose \"<>\" or \"<\" or \">\")?>\n",
      "What is the value to analysis power?24.5\n",
      "What is the mean of the sample in the database?24.2\n",
      "What is the standard deviation of the sample in the database?1.1624\n",
      "Z_score is 1.8926359256710186 critical z_score is 1.892683289273909\n",
      "Not Reject null hypothesis p_value is 0.029203151363872082\n",
      "The value of Beta is 0.0022634207853957874\n",
      "The value of Power is 0.9977365792146042\n",
      "Critical value of mu  24.20000500504109\n"
     ]
    }
   ],
   "source": [
    "#b)\n",
    "hypo_test_z()"
   ]
  },
  {
   "cell_type": "markdown",
   "id": "bf0a1d08",
   "metadata": {},
   "source": [
    "## The car insurance companies are thinking about raising premiums (amount charged to policyholders for insurance) for drivers using a mobile while driving. The National Consumer Group (NCG) affirms that the problem is not so serious, as only 10% of drivers using a mobile while driving. An independent consulting conducted a study with a random sample of drivers. It was noted that 60 out of 500 drivers were using the mobile while they were driving.\n",
    "(a) Construct an adequate hypothesis test, at the 2% significance level, to help NCG (consider NCG is the status quo). What\n",
    "is your decision? What does it mean in practical terms?   \n",
    "(b) How many drivers should be investigated to estimate a 96% confidence interval with an error maximum of 2%\n",
    "(conservative)?"
   ]
  },
  {
   "cell_type": "code",
   "execution_count": 16,
   "id": "f69ccaff",
   "metadata": {},
   "outputs": [
    {
     "name": "stdout",
     "output_type": "stream",
     "text": [
      "What is the null hypothesis(Ho should be decimal and use \".\" being the separator)?0.1\n",
      "What is the number of the significance(alfa should be decimal and use \".\" being the separator) that you want?0.02\n",
      "What is the alternative hypothesis(choose \"<>\" or \"<\" or \">\")?>\n",
      "What is the number of elements in the database?500\n",
      "What is the number of p/(p/ should be decimal and use \".\" being the separator) that you want?0.12\n",
      "Z_score is 0.8944271909999154 critical z_score is 2.0537489106318225 H0 critical is0.14592322172888897\n",
      "Not Reject null hypothesis p_value is 0.18554668476134895\n"
     ]
    }
   ],
   "source": [
    "#a)\n",
    "hypo_test_p()"
   ]
  },
  {
   "cell_type": "code",
   "execution_count": 18,
   "id": "dad17fc2",
   "metadata": {},
   "outputs": [
    {
     "name": "stdout",
     "output_type": "stream",
     "text": [
      "Digite if the case is proportion (s or n)s\n",
      "What is the number of the significance(alpha should be decimal and use \".\" being the separator) that you want?0.04\n",
      "What is the margin of error (ME should be decimal and use \".\" being the separator) that you want?0.02\n",
      "The number of samples needed is 2637\n"
     ]
    }
   ],
   "source": [
    "#b)\n",
    "number_samples_z()"
   ]
  },
  {
   "cell_type": "markdown",
   "id": "34acbae1",
   "metadata": {},
   "source": [
    "## The financial market calls \"conservative\" an investment considered of low risk. The risk or volatility of the asset is measured by the standard deviation. An agency considers as a conservative investment that whose risk does not exceed 0.0740 (7.4%). The BOVESPA index in the period from Abr08 to Fev14 (71 months) presented an average rate of return of 0.0158 and standard deviation of 0.0788. By the BOVESPA index's historical data knows that its distribution can be approximated by a normal distribution.\n",
    "(a) (2,0) Conduct an appropriate hypotheses test, at the 10% level of significance, to verify if there is evidence that the\n",
    "BOVESPA index is a non-conservative investment."
   ]
  },
  {
   "cell_type": "code",
   "execution_count": 20,
   "id": "4d2c2632",
   "metadata": {},
   "outputs": [
    {
     "name": "stdout",
     "output_type": "stream",
     "text": [
      "The variance is  0.006209439999999999\n"
     ]
    }
   ],
   "source": [
    "print('The variance is ',0.0788**2)"
   ]
  },
  {
   "cell_type": "code",
   "execution_count": 21,
   "id": "d1db5832",
   "metadata": {},
   "outputs": [
    {
     "name": "stdout",
     "output_type": "stream",
     "text": [
      "What is the null hypothesis for standard deviation(Ho should be decimal and use \".\" being the separator)?0.074\n",
      "What is the number of the significance(alfa should be decimal and use \".\" being the separator) that you want?0.1\n",
      "What is the alternative hypothesis(choose \"<>\" or \"<\" or \">\")?>\n",
      "What is the number of elements in the database?71\n",
      "What is the variance of the sample in the database?0.0062094\n",
      "chi2_score is 79.37509130752376 critical chi2_score is 85.52704271487188 \"s\" critical is0.08179644472771927\n",
      "Not Reject null hypothesis\n"
     ]
    }
   ],
   "source": [
    "hypo_test_chi2()"
   ]
  },
  {
   "cell_type": "markdown",
   "id": "4f701bda",
   "metadata": {},
   "source": [
    "## A market researcher for an automobile dealer intends to conduct a nationwide survey concerning car repairs. Among the questions included in the survey is the following: “What was the cost of all repairs performed on your car last year?” In order to determine the sample size necessary, the researcher needs to provide an estimate of the standard deviation. Using his past experience and judgment, he estimates that the standard deviation of the amount of repairs is S 200. Suppose that a smallscale study of 25 auto owners selected at random indicates a sample standard deviation of S237.52.\n",
    "(a) At the 0.05 level of significance, is there evidence that the population standard deviation is different from $200?  \n",
    "(b) What assumption do you need to make in order to perform this test?"
   ]
  },
  {
   "cell_type": "code",
   "execution_count": 23,
   "id": "3cf3f1bc",
   "metadata": {},
   "outputs": [
    {
     "name": "stdout",
     "output_type": "stream",
     "text": [
      "The variance is  56415.750400000004\n"
     ]
    }
   ],
   "source": [
    "print('The variance is ',237.52**2)"
   ]
  },
  {
   "cell_type": "code",
   "execution_count": 24,
   "id": "8586a09b",
   "metadata": {},
   "outputs": [
    {
     "name": "stdout",
     "output_type": "stream",
     "text": [
      "What is the null hypothesis for standard deviation(Ho should be decimal and use \".\" being the separator)?200\n",
      "What is the number of the significance(alfa should be decimal and use \".\" being the separator) that you want?0.05\n",
      "What is the alternative hypothesis(choose \"<>\" or \"<\" or \">\")?<>\n",
      "What is the number of elements in the database?25\n",
      "What is the variance of the sample in the database?56415.7504\n",
      "chi2_score is 33.84945024 critical Upper chi2_score is 39.36407702660391 critical Lower chi2_score is 12.401150217444435 \"s\" Upper critical is 256.1382342492816 \"s\" Lower critical is 143.76572503813532\n",
      "Not Reject null hypothesis\n"
     ]
    }
   ],
   "source": [
    "#a)\n",
    "hypo_test_chi2()\n"
   ]
  },
  {
   "cell_type": "code",
   "execution_count": null,
   "id": "f596d47d",
   "metadata": {},
   "outputs": [],
   "source": [
    "# b)\n",
    "# The population of the variable X should follow a normal distribution"
   ]
  },
  {
   "cell_type": "markdown",
   "id": "4eb0b5df",
   "metadata": {},
   "source": [
    "## The marketing manager of a branch office of a local telephone operating company wants to study characteristics of residential customers served by her office. In particular, she wants to estimate the mean monthly cost of calls within the local calling region. In order to determine the sample size necessary, she needs an estimate of the standard deviation. On the basis of her past experience and judgment, she estimates that the standard deviation is equal to S12. Suppose that a small-scale study of 15 residential customers indicates a sample standard deviation of S9.25.\n",
    "(a) At the 0.10 level of significance, is there evidence that the population standard deviation is different from $12?  \n",
    "(b) What assumption do you need to make in order to perform this test?"
   ]
  },
  {
   "cell_type": "code",
   "execution_count": 25,
   "id": "fb18e531",
   "metadata": {},
   "outputs": [
    {
     "name": "stdout",
     "output_type": "stream",
     "text": [
      "The variance is  85.5625\n"
     ]
    }
   ],
   "source": [
    "print('The variance is ',9.25**2)"
   ]
  },
  {
   "cell_type": "code",
   "execution_count": 26,
   "id": "b4157f24",
   "metadata": {},
   "outputs": [
    {
     "name": "stdout",
     "output_type": "stream",
     "text": [
      "What is the null hypothesis for standard deviation(Ho should be decimal and use \".\" being the separator)?12\n",
      "What is the number of the significance(alfa should be decimal and use \".\" being the separator) that you want?0.1\n",
      "What is the alternative hypothesis(choose \"<>\" or \"<\" or \">\")?<>\n",
      "What is the number of elements in the database?15\n",
      "What is the variance of the sample in the database?85.5625\n",
      "chi2_score is 8.31857638888889 critical Upper chi2_score is 23.684791304840576 critical Lower chi2_score is 6.57063138378934 \"s\" Upper critical is 15.6081708178236 \"s\" Lower critical is 8.22092677807099\n",
      "Not Reject null hypothesis\n"
     ]
    }
   ],
   "source": [
    "#a)\n",
    "hypo_test_chi2()"
   ]
  },
  {
   "cell_type": "code",
   "execution_count": null,
   "id": "3d7fc629",
   "metadata": {},
   "outputs": [],
   "source": [
    "# b)\n",
    "# The population of the variable X should follow a normal distribution"
   ]
  },
  {
   "cell_type": "markdown",
   "id": "45053d90",
   "metadata": {},
   "source": [
    "## A manufacturer of doorknobs has a production process that is designed to provide a doorknob with a target diameter of 2.5 inches. In the past, the standard deviation of the diameter has been 0.035 inch. In an effort to reduce the variation in the process, various studies have resulted in a redesigned process. A sample of 25 doorknobs produced under the new process indicates a sample standard deviation of 0.025 inch.\n",
    "(a) At the 0.05 level of significance, is there evidence that the population standard deviation is less than 0.035 inch in the new process?  \n",
    "(b) What assumption do you need to make in order to perform this test?"
   ]
  },
  {
   "cell_type": "code",
   "execution_count": 27,
   "id": "8d9903b6",
   "metadata": {},
   "outputs": [
    {
     "name": "stdout",
     "output_type": "stream",
     "text": [
      "The variance is  0.0006250000000000001\n"
     ]
    }
   ],
   "source": [
    "print('The variance is ',0.025**2)"
   ]
  },
  {
   "cell_type": "code",
   "execution_count": 29,
   "id": "3d904f28",
   "metadata": {},
   "outputs": [
    {
     "name": "stdout",
     "output_type": "stream",
     "text": [
      "What is the null hypothesis for standard deviation(Ho should be decimal and use \".\" being the separator)?0.035\n",
      "What is the number of the significance(alfa should be decimal and use \".\" being the separator) that you want?0.05\n",
      "What is the alternative hypothesis(choose \"<>\" or \"<\" or \">\")?<\n",
      "What is the number of elements in the database?25\n",
      "What is the variance of the sample in the database?0.000625\n",
      "chi2_score is 12.244897959183671 critical chi2_score is 13.848425027170224 \"s\" critical is0.026586588613343138\n",
      "Reject null hypothesis\n"
     ]
    }
   ],
   "source": [
    "#a)\n",
    "hypo_test_chi2()"
   ]
  }
 ],
 "metadata": {
  "kernelspec": {
   "display_name": "Python 3 (ipykernel)",
   "language": "python",
   "name": "python3"
  },
  "language_info": {
   "codemirror_mode": {
    "name": "ipython",
    "version": 3
   },
   "file_extension": ".py",
   "mimetype": "text/x-python",
   "name": "python",
   "nbconvert_exporter": "python",
   "pygments_lexer": "ipython3",
   "version": "3.10.1"
  }
 },
 "nbformat": 4,
 "nbformat_minor": 5
}
